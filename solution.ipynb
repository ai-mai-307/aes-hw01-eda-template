{
 "cells": [
  {
   "cell_type": "markdown",
   "id": "943f9dbd",
   "metadata": {},
   "source": [
    "# Практическое задание №1"
   ]
  },
  {
   "cell_type": "markdown",
   "id": "a01589e6",
   "metadata": {},
   "source": [
    "## Импорт зависимостей"
   ]
  },
  {
   "cell_type": "code",
   "execution_count": null,
   "id": "b82ab8a1",
   "metadata": {
    "vscode": {
     "languageId": "plaintext"
    }
   },
   "outputs": [],
   "source": [
    "import numpy as np\n",
    "import pandas as pd\n",
    "# ..."
   ]
  }
 ],
 "metadata": {
  "language_info": {
   "name": "python"
  }
 },
 "nbformat": 4,
 "nbformat_minor": 5
}
